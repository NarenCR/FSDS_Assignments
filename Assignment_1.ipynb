{
  "metadata": {
    "language_info": {
      "codemirror_mode": {
        "name": "python",
        "version": 3
      },
      "file_extension": ".py",
      "mimetype": "text/x-python",
      "name": "python",
      "nbconvert_exporter": "python",
      "pygments_lexer": "ipython3",
      "version": "3.8"
    },
    "kernelspec": {
      "name": "python",
      "display_name": "Python (Pyodide)",
      "language": "python"
    }
  },
  "nbformat_minor": 4,
  "nbformat": 4,
  "cells": [
    {
      "cell_type": "raw",
      "source": "1. In the below elements which of them are values or an expression? eg:- values can be\n   integer or string and expressions will be mathematical operators.\n* - Expression (muliplication operator)\n'hello'- Value (string)\n-87.8 - Value  (Numerical Value - int)\n- - Expression (operator)\n/ - Expression (operator)\n+ - Expression (operator)\n6 - Value      (Numerical Value - int)",
      "metadata": {}
    },
    {
      "cell_type": "raw",
      "source": "2. What is the difference between string and variable?\nStrings are usually give as input to a variable.\nvariables stores assigned value for that variable.\nanything enclosed within '', \"\",'''''',\"\"\"\"\"\" in these are strings which can be an aplhanum, aplha or numerical.\nvariable cannot start with numbers it should be a letter.",
      "metadata": {}
    },
    {
      "cell_type": "raw",
      "source": "3. Describe three different data types.\nTypes of Data types\n1. Numeric - consists of integer(123), Float(123.00) and complex numbers (12'3')\n2. Dictionary - d={key:Value} dict will be of key and value pair, value can be of list,int,string,tuple,set. one of the powerful datatype in python.\n3. Boolean - True/False which can be used in combination with loops and functions to return or commence an operation if the return based on the boolen value (1/0)\n4. Set- An immutable dataset which will have only unique values in randaom order.\n5. Sequence - List,Tuple and string\n   List - Muttable data type we can do all sort of operation with list has multiple use cases ( sorting,sum, multiple values storing for multiple times..)\n   Tuple - Immutable data type, can use to something you don't want to change.\n   String - Almost same as list we can do all sort of operation with string also.",
      "metadata": {}
    },
    {
      "cell_type": "raw",
      "source": "4. What is an expression made up of? What do all expressions do?\nExpression are made up of operators and special charaters (&,^,!), and used to assign value, do mathamatical operations and also for checking conditions.",
      "metadata": {}
    },
    {
      "cell_type": "raw",
      "source": "5. This assignment statements, like spam = 10. What is the difference between an\nexpression and a statement?\nspam =10 is an statement ( statement will do some operations,all expresions are statement as well)\nExpression always returns atleast one value. Expression only contains identifiers,literals and operators",
      "metadata": {}
    },
    {
      "cell_type": "markdown",
      "source": "6. After running the following code, what does the variable bacon contain?\nbacon = 22\nbacon + 1\n\n22",
      "metadata": {}
    },
    {
      "cell_type": "raw",
      "source": "7. What should the values of the following two terms be?\n'spam' + 'spamspam'\n'spam' * 3\n\nspamspamspam",
      "metadata": {}
    },
    {
      "cell_type": "raw",
      "source": "8. Why is eggs a valid variable name while 100 is invalid?\nVariable should start with letters not numbers, it cannot be only integers as well. its can egss100,e100",
      "metadata": {}
    },
    {
      "cell_type": "raw",
      "source": "9. What three functions can be used to get the integer, floating-point number, or string\nversion of a value?\nint(value) - integer\nfloat(value) - floating point number\nstr(value) - string",
      "metadata": {}
    },
    {
      "cell_type": "raw",
      "source": "10. Why does this expression cause an error? How can you fix it?\n'I have eaten' + 99 + 'burritos.'\nintegers cannot be concated\nif we convert 99 as string '99' it wil not give any error\n'I have eaten' + '99' + 'burritos.'",
      "metadata": {}
    }
  ]
}