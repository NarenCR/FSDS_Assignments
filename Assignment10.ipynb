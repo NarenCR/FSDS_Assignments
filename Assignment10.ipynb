{
 "cells": [
  {
   "cell_type": "code",
   "execution_count": 1,
   "id": "50222317-39b5-41bc-bca6-dc50ffce3678",
   "metadata": {},
   "outputs": [],
   "source": [
    "#1. How do you distinguish between shutil.copy() and shutil.copytree()?\n",
    "# Shutil.copy() copies only file to destination folder/file\n",
    "# shutil.copytree() copies entire folder to destination"
   ]
  },
  {
   "cell_type": "code",
   "execution_count": 2,
   "id": "eaa0d647-e010-41a5-95fe-89bb3576996d",
   "metadata": {},
   "outputs": [],
   "source": [
    "#2. What function is used to rename files??\n",
    "# shutil.move() is used to rename files as well as moving files"
   ]
  },
  {
   "cell_type": "code",
   "execution_count": 3,
   "id": "be62efd7-970a-4cd9-afdf-3858ed9fb273",
   "metadata": {},
   "outputs": [],
   "source": [
    "#3. What is the difference between the delete functions in the send2trash and shutil modules?\n",
    "# ans. send2trash will send the file to recycle bin but shutil module will delete the file and folder permanently."
   ]
  },
  {
   "cell_type": "code",
   "execution_count": 4,
   "id": "b6e288c5-545a-4b6d-bcc1-dd589112694f",
   "metadata": {},
   "outputs": [],
   "source": [
    "#4.ZipFile objects have a close() method just like File objects’ close() method. What ZipFile method is equivalent to File objects’ open() method?\n",
    "# ans. zipfile.ZipFile()"
   ]
  },
  {
   "cell_type": "code",
   "execution_count": null,
   "id": "f318bcec-f129-4f22-bdbc-7ab08967462e",
   "metadata": {},
   "outputs": [],
   "source": [
    "#5. Create a programme that searches a folder tree for files with a certain file extension (such as .pdf or .jpg). Copy these files from whatever location they are in to a new folder.\n",
    "import os, shutil\n",
    "folder = os.path.abspath()\n",
    "destFolder = os.path.abspath()\n",
    "\n",
    "extensions = ['.pdf', '.jpg']\n",
    "\n",
    "folder = 'randomFolder'\n",
    "\n",
    "destFolder = 'selectiveFolder'\n",
    "\n",
    "for foldername, subfolders, filenames in os.walk(folder):\n",
    "    \n",
    "    for filename in filenames:\n",
    "        name, extension = os.path.splitext(filename)\n",
    "        if extension in extensions:\n",
    "\n",
    "            fileAbsPath = foldername + os.path.sep + filename\n",
    "\n",
    "            print('Coping', fileAbsPath, 'to', destFolder)\n",
    "\n",
    "            shutil.copy(fileAbsPath, destFolder)"
   ]
  }
 ],
 "metadata": {
  "kernelspec": {
   "display_name": "Python 3 (ipykernel)",
   "language": "python",
   "name": "python3"
  },
  "language_info": {
   "codemirror_mode": {
    "name": "ipython",
    "version": 3
   },
   "file_extension": ".py",
   "mimetype": "text/x-python",
   "name": "python",
   "nbconvert_exporter": "python",
   "pygments_lexer": "ipython3",
   "version": "3.10.6"
  }
 },
 "nbformat": 4,
 "nbformat_minor": 5
}
