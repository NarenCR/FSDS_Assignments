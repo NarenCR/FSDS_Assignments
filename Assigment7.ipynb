{
 "cells": [
  {
   "cell_type": "code",
   "execution_count": null,
   "id": "3c60cd19",
   "metadata": {},
   "outputs": [],
   "source": [
    "#1. What is the name of the feature responsible for generating Regex objects?\n",
    "re.compile()"
   ]
  },
  {
   "cell_type": "code",
   "execution_count": null,
   "id": "b9fbc462",
   "metadata": {},
   "outputs": [],
   "source": [
    "#2. Why do raw strings often appear in Regex objects?\n",
    "because in re \\ is used to escape metacharacters(.,^?|\\) used in re, so when r is used the escape characters\\ meta characters \n",
    "will be counted as regular string"
   ]
  },
  {
   "cell_type": "code",
   "execution_count": null,
   "id": "1360274b",
   "metadata": {},
   "outputs": [],
   "source": [
    "#3. What is the return value of the search() method?\n",
    "If a match is found then it returns match otherwise None"
   ]
  },
  {
   "cell_type": "code",
   "execution_count": null,
   "id": "9705d3a1",
   "metadata": {},
   "outputs": [],
   "source": [
    "#4. From a Match item, how do you get the actual strings that match the pattern?\n",
    "search for match using search and print it using group(0) or group() for full match"
   ]
  },
  {
   "cell_type": "code",
   "execution_count": 9,
   "id": "c10360b4",
   "metadata": {},
   "outputs": [],
   "source": [
    "#5. In the regex which created from the r'(\\d\\d\\d)-(\\d\\d\\d-\\d\\d\\d\\d)', what does group zero cover? Group 2? Group 1?\n",
    "gropu(0) cover the whole match\n",
    "gropu(1) covers first matches (\\d\\d\\d)\n",
    "group(2) covers second match (\\d\\d\\d-\\d\\d\\d\\d)"
   ]
  },
  {
   "cell_type": "code",
   "execution_count": null,
   "id": "1ad02fcf",
   "metadata": {},
   "outputs": [],
   "source": [
    "#6. In standard expression syntax, parentheses and intervals have distinct meanings. \n",
    "#How can you tell a regex that you want it to fit real parentheses and periods?\n",
    "by using \\ in front of it.\n",
    "r'\\.'\n",
    "r'\\{'"
   ]
  },
  {
   "cell_type": "code",
   "execution_count": null,
   "id": "2157ec68",
   "metadata": {},
   "outputs": [],
   "source": [
    "#7. The findall() method returns a string list or a list of string tuples. What causes it to return one of the two options?\n",
    "when groups are used to find the match, the matches are returened as a list of tuples and if there are no groups\n",
    "only list will be returned.\n"
   ]
  },
  {
   "cell_type": "code",
   "execution_count": 1,
   "id": "3de57d41",
   "metadata": {},
   "outputs": [],
   "source": [
    "#8. In standard expressions, what does the | character mean?\n",
    "this expression mean OR function, r'\\. | \\{'  either . or { will be matched."
   ]
  },
  {
   "cell_type": "code",
   "execution_count": 2,
   "id": "bb383a9c",
   "metadata": {},
   "outputs": [],
   "source": [
    "#9. In regular expressions, what does the character stand for?\n",
    "there is no character specified"
   ]
  },
  {
   "cell_type": "code",
   "execution_count": null,
   "id": "f0f20174",
   "metadata": {},
   "outputs": [],
   "source": [
    "#10.In regular expressions, what is the difference between the + and * characters?\n",
    "+ one or more occurances of the match to its left, (r'g+' , 'maggi') --> \"gg\"\n",
    "* 0 or more occurances of the match to its left, (r'd*', 'maggi') --> \"\""
   ]
  },
  {
   "cell_type": "code",
   "execution_count": null,
   "id": "23890bbc",
   "metadata": {},
   "outputs": [],
   "source": [
    "#11. What is the difference between {4} and {4,5} in regular expression?\n",
    "{4} - Exactly 4 repition of pattern will be matched otherwise nothing will be matched.\n",
    "{4,5} - 4 to 5 repition of pattern will be matched otherwise nothing will be matched."
   ]
  },
  {
   "cell_type": "code",
   "execution_count": null,
   "id": "b46ab3af",
   "metadata": {},
   "outputs": [],
   "source": [
    "#12. What do you mean by the \\d, \\w, and \\s shorthand character classes signify in regular expressions?\n",
    "\\d - strings with integers [0-9] will be matched\n",
    "\\w - strings with characters [a-Z_0-9] will be matched \n",
    "\\s - strings with white spaces will be matched"
   ]
  },
  {
   "cell_type": "code",
   "execution_count": null,
   "id": "b98c707d",
   "metadata": {},
   "outputs": [],
   "source": [
    "#13. What do means by \\D, \\W, and \\S shorthand character classes signify in regular expressions?\n",
    "\\D - non digit strings will be matched\n",
    "\\W - string without word [a-Z_] or digit[0-9] will be matched, eg '!@%'\n",
    "\\S - strings without white space will be matched."
   ]
  },
  {
   "cell_type": "code",
   "execution_count": null,
   "id": "4338a14b",
   "metadata": {},
   "outputs": [],
   "source": [
    "#14. What is the difference between .*? and .*?\n",
    "both expressions are same.\n",
    "returns first match of the pattern"
   ]
  },
  {
   "cell_type": "code",
   "execution_count": 23,
   "id": "33004ecc",
   "metadata": {},
   "outputs": [],
   "source": [
    "#15. What is the syntax for matching both numbers and lowercase letters with a character class?\n",
    "r'\\w'"
   ]
  },
  {
   "cell_type": "code",
   "execution_count": null,
   "id": "a04739f0",
   "metadata": {},
   "outputs": [],
   "source": [
    "#16. What is the procedure for making a normal expression in regax case insensitive?\n",
    "after pattern search include flags = re.IGNORECASE\n",
    "print(re.findall('[a-f]+', 'Aey, Boy oh boy, come here', flags=re.IGNORECASE))"
   ]
  },
  {
   "cell_type": "code",
   "execution_count": null,
   "id": "82e3bf56",
   "metadata": {},
   "outputs": [],
   "source": [
    "#17. What does the . character normally match? What does it match if re.DOTALL is passed as 2nd argument in re.compile()?\n",
    ". normally matches any characters except newline\n",
    "if re.DOTALL is passed as 2nd argument in re.compile new line will also matched."
   ]
  },
  {
   "cell_type": "code",
   "execution_count": 32,
   "id": "b1311e64",
   "metadata": {},
   "outputs": [
    {
     "name": "stdout",
     "output_type": "stream",
     "text": [
      "['A', 'y', 'e', ',', ' ', 's', 'a', 'i', 'd', ' ', '\\n', 'M', 'r', '.', ' ', 'G', 'i', 'b', 'e', 'n', 's', 'o', 'n', ' ', 'S', 't', 'a', 'r', 'k']\n"
     ]
    }
   ],
   "source": [
    "p = re.compile('.',re.DOTALL)\n",
    "print(p.findall(\"Aye, said \\nMr. Gibenson Stark\"))"
   ]
  },
  {
   "cell_type": "code",
   "execution_count": null,
   "id": "2d528257",
   "metadata": {},
   "outputs": [],
   "source": [
    "#18. If numReg = re.compile(r'\\d+'), what will numRegex.sub('X', '11 drummers, 10 pipers, five rings, 4 hen') return?\n",
    "Error nuRegex is not defined.\n",
    "if numReg.sub('X', '11 drummers, 10 pipers, five rings, 4 hen') is called\n",
    "continuous digits are replaced by X"
   ]
  },
  {
   "cell_type": "code",
   "execution_count": null,
   "id": "11bfac6a",
   "metadata": {},
   "outputs": [],
   "source": [
    "#19. What does passing re.VERBOSE as the 2nd argument to re.compile() allow to do?\n",
    "allows to add comments for pattern and makes the output looks easily readable."
   ]
  },
  {
   "cell_type": "code",
   "execution_count": 31,
   "id": "06178620",
   "metadata": {},
   "outputs": [
    {
     "name": "stdout",
     "output_type": "stream",
     "text": [
      "[',234']\n"
     ]
    }
   ],
   "source": [
    "#20. How would you write a regex that match a number with comma for every three digits? It must match the given following:\n",
    "import re\n",
    "q = re.compile('^\\d+(,\\d{3})*$')\n",
    "print(q.findall('1,234'))\n"
   ]
  },
  {
   "cell_type": "code",
   "execution_count": 40,
   "id": "64929653",
   "metadata": {},
   "outputs": [
    {
     "name": "stdout",
     "output_type": "stream",
     "text": [
      "['Naruto Watanabe']\n"
     ]
    }
   ],
   "source": [
    "#21. How would you write a regex that matches the full name of someone whose last name is Watanabe? \n",
    "#You can assume that the first name that comes before it will always be one word that begins with a capital letter. \n",
    "#The regex must match the following:\n",
    "t=re.compile('^[A-Z][a-z]+\\sWatanabe')\n",
    "print(t.findall('Naruto Watanabe'))"
   ]
  },
  {
   "cell_type": "code",
   "execution_count": 48,
   "id": "4a546c14",
   "metadata": {},
   "outputs": [
    {
     "name": "stdout",
     "output_type": "stream",
     "text": [
      "[('Carol', 'eats', 'Baseballs')]\n"
     ]
    }
   ],
   "source": [
    "'''22. How would you write a regex that matches a sentence where the first word is either Alice, Bob, or Carol; \n",
    "the second word is either eats, pets, or throws; the third word is apples, cats, or baseballs; and the sentence ends\n",
    "with a period? This regex should be case-insensitive. It must match the following:'''\n",
    "e=re.compile('^(Alice|Bob|Carol)\\s(eats|pets|throws)\\s(apples|cats|baseballs)\\.',flags=re.IGNORECASE)\n",
    "print(e.findall('Carol eats Baseballs.'))"
   ]
  },
  {
   "cell_type": "code",
   "execution_count": null,
   "id": "db74d188",
   "metadata": {},
   "outputs": [],
   "source": []
  }
 ],
 "metadata": {
  "kernelspec": {
   "display_name": "Python 3 (ipykernel)",
   "language": "python",
   "name": "python3"
  },
  "language_info": {
   "codemirror_mode": {
    "name": "ipython",
    "version": 3
   },
   "file_extension": ".py",
   "mimetype": "text/x-python",
   "name": "python",
   "nbconvert_exporter": "python",
   "pygments_lexer": "ipython3",
   "version": "3.9.12"
  }
 },
 "nbformat": 4,
 "nbformat_minor": 5
}
