{
 "cells": [
  {
   "cell_type": "code",
   "execution_count": 4,
   "id": "e802ef99",
   "metadata": {},
   "outputs": [
    {
     "name": "stdout",
     "output_type": "stream",
     "text": [
      "km = 12\n"
     ]
    },
    {
     "data": {
      "text/plain": [
       "'7.46'"
      ]
     },
     "execution_count": 4,
     "metadata": {},
     "output_type": "execute_result"
    }
   ],
   "source": [
    "#1.\tWrite a Python program to convert kilometers to miles?\n",
    "class convertor:\n",
    "    def km_to_miles(self):\n",
    "        import logging\n",
    "        logging.basicConfig(filename='km_to_miles.txt',filemode='w',level = logging.DEBUG, format = '%(name)s : %(asctime)s : %(levelname)s : %(message)s')\n",
    "        logging.info(\"Converting km to miles\")\n",
    "\n",
    "        while(True):\n",
    "            try:\n",
    "                km = float(input(\"km = \"))\n",
    "            except Exception as e:\n",
    "                logging.exception('provided values were not convertable\\nPlease check the input\\n',e)\n",
    "                continue\n",
    "            miles = 0.62137119 * km\n",
    "            logging.info(\"Formula used: miles = 0.62137119 * km \")\n",
    "            logging.info(\"km = %s\", km)\n",
    "            logging.info('miles = %s', '%.2f'%miles)\n",
    "            break\n",
    "\n",
    "        return '%.2f'%miles\n",
    "c=convertor()\n",
    "c.km_to_miles()"
   ]
  },
  {
   "cell_type": "code",
   "execution_count": 5,
   "id": "55b1aef0",
   "metadata": {},
   "outputs": [
    {
     "name": "stdout",
     "output_type": "stream",
     "text": [
      "celsius = 12\n"
     ]
    },
    {
     "data": {
      "text/plain": [
       "53.6"
      ]
     },
     "execution_count": 5,
     "metadata": {},
     "output_type": "execute_result"
    }
   ],
   "source": [
    "#2.\tWrite a Python program to convert Celsius to Fahrenheit?\n",
    "class convertor:\n",
    "    def Celsius_to_Fahrenheit(self):\n",
    "        import logging\n",
    "        logging.basicConfig(filename='Celsius_to_Fahrenheit.txt',filemode='w',level = logging.DEBUG, format = '%(asctime)s : %(levelname)s : %(message)s')\n",
    "        logging.info(\"Converting Celsius to Fahrenheit\")\n",
    "\n",
    "        while(True):\n",
    "            try:\n",
    "                celsius = float(input(\"celsius = \"))\n",
    "            except Exception as e:\n",
    "                logging.exception('provided values were not convertable\\nPlease check the input\\n',e)\n",
    "                continue\n",
    "            Fahrenheit = 1.8*celsius + 32\n",
    "            logging.info(\"Formula used: miles = 1.8*celsius + 32 \")\n",
    "            logging.info(\"celsius = %s%s\",'%.2f'%celsius, chr(176))\n",
    "            logging.info('miles = %s%s', '%.2f'%Fahrenheit,chr(176))\n",
    "            break\n",
    "\n",
    "        return Fahrenheit\n",
    "c=convertor()\n",
    "c.Celsius_to_Fahrenheit()\n"
   ]
  },
  {
   "cell_type": "code",
   "execution_count": 6,
   "id": "c14f8769",
   "metadata": {},
   "outputs": [
    {
     "name": "stdout",
     "output_type": "stream",
     "text": [
      "Please Enter the month details, if you know other wise we ca go for entire year 0\n",
      "Please Enter the year you want to see the calendar 2022\n"
     ]
    }
   ],
   "source": [
    "#3.\tWrite a Python program to display calendar?\n",
    "class calendar:\n",
    "    def calendar_dispay(self):\n",
    "        import calendar as cal\n",
    "        import logging as lg\n",
    "        lg.basicConfig(filename='Calendar.txt', filemode='w', level=lg.DEBUG,\n",
    "                            format='%(message)s : %(asctime)s',datefmt= '%Y-%m-%d %H:%M:%S')\n",
    "        while(True):\n",
    "            try:\n",
    "\n",
    "                mm = int(input(\"Please Enter the month details, if you know other wise we ca go for entire year \"))\n",
    "                yy = int(input(\"Please Enter the year you want to see the calendar \"))\n",
    "                while (True):\n",
    "                    if mm>12 or mm<0:\n",
    "                        mm=int(input(\"please Re-Enter month Value (less than 12 greater than 0) \"))\n",
    "                    if yy<1 or yy>3000:\n",
    "                        yy= int(input(\"Please Re-Enter year value (less than 3000 greater than 1) \"))\n",
    "                    else:\n",
    "                        break\n",
    "\n",
    "\n",
    "            except Exception as e:\n",
    "                lg.exception(\"please Enter a vaild integer\")\n",
    "                continue\n",
    "            if mm != 0:\n",
    "                lg.info(\"This is the calendar for the month of %s / %s\", mm, yy)\n",
    "                lg.info(cal.month(yy, mm))\n",
    "            else:\n",
    "                lg.info(\"This is the calendar for the year of %s\", yy)\n",
    "                lg.info(cal.calendar(yy))\n",
    "            break\n",
    "\n",
    "c=calendar()\n",
    "c.calendar_dispay()"
   ]
  },
  {
   "cell_type": "code",
   "execution_count": 7,
   "id": "a2cc6b54",
   "metadata": {},
   "outputs": [
    {
     "name": "stdout",
     "output_type": "stream",
     "text": [
      " Quadratic equation format = ax^2 + bx + c\n",
      " Enter value for a = 1\n",
      " Enter value for b = 2\n",
      " Enter value for c = 1\n"
     ]
    }
   ],
   "source": [
    "#4.\tWrite a Python program to solve quadratic equation?\n",
    "# Hi, This program is showing errors on logging part i guess, please help me find the issue\n",
    "# same program I have executed without logging below\n",
    "class equations:\n",
    "\n",
    "\n",
    "    def equationroots(self,a, b, c):\n",
    "        import math\n",
    "        import logging as lg\n",
    "        lg.basicConfig(filename='Quadratic_equ.txt',filemode='w',level=lg.DEBUG,format='%(message)s : %(asctime)s',datefmt='%Y-%m-%s %H:%M:%S')\n",
    "        lg.info(\"solving quadratic equation using formula 'x = (-b (+/-) sqrt(b * b - 4 * a * c))/2a'\")\n",
    "        lg.info(\"a = %s\" %a)\n",
    "        lg.info(\"b = %s\" %b)\n",
    "        lg.info(\"c = %s\" %c)\n",
    "        dis = b * b - 4 * a * c\n",
    "        sqrt_val = math.sqrt(abs(dis))\n",
    "\n",
    "        # checking condition for discriminant\n",
    "        if dis > 0:\n",
    "            lg.info(\" real and different roots \")\n",
    "            lg.info(\"x = %s\", ((-b + sqrt_val) / (2 * a)))\n",
    "            lg.info(\"x = %s\", ((-b - sqrt_val) / (2 * a)))\n",
    "\n",
    "        elif dis == 0:\n",
    "            lg.info(\" real and same roots\")\n",
    "            lg.info(\"x = %s\" ,((-b / (2 * a))))\n",
    "\n",
    "        # when discriminant is less than 0\n",
    "        elif (dis < 0) :\n",
    "            lg.info(\"Complex Roots\")\n",
    "            lg.info(\"x = %s + i %s\",(- b / (2 * a)), sqrt_val)\n",
    "            lg.info(\"x = %s - i %s\",(- b / (2 * a)), sqrt_val)\n",
    "\n",
    "\n",
    "\n",
    "# Driver Program\n",
    "while(True):\n",
    "    print( \" Quadratic equation format = ax^2 + bx + c\")\n",
    "    try:\n",
    "        a = float(input(\" Enter value for a = \"))\n",
    "        b = float(input(\" Enter value for b = \"))\n",
    "        c = float(input(\" Enter value for c = \"))\n",
    "    except Exception as e:\n",
    "        print(\"Please enter correct value\\n\",e)\n",
    "        continue\n",
    "\n",
    "\n",
    "\n",
    "# If a is 0, then incorrect equation\n",
    "    if a == 0:\n",
    "        print(\"Input correct quadratic equation\")\n",
    "        continue\n",
    "\n",
    "    else:\n",
    "        e = equations()\n",
    "        e.equationroots(a, b, c)\n",
    "    break"
   ]
  },
  {
   "cell_type": "code",
   "execution_count": 8,
   "id": "6a4d93f1",
   "metadata": {},
   "outputs": [
    {
     "name": "stdout",
     "output_type": "stream",
     "text": [
      " Quadratic equation format = ax^2 + bx + c\n",
      " Enter value for a = 1\n",
      " Enter value for b = 2\n",
      " Enter value for c = 1\n",
      "solving quadratic equation using formula 'x = (-b (+/-) sqrt(b * b - 4 * a * c))/2a'\n",
      "a = %s 1.0\n",
      "b = %s 2.0\n",
      "c = %s 1.0\n",
      " real and same roots\n",
      "x = %s -1.0\n"
     ]
    }
   ],
   "source": [
    "#4.\tWrite a Python program to solve quadratic equation?\n",
    "class equations:\n",
    "\n",
    "\n",
    "    def equationroots(self,a, b, c):\n",
    "        import math\n",
    "        print(\"solving quadratic equation using formula 'x = (-b (+/-) sqrt(b * b - 4 * a * c))/2a'\")\n",
    "        print(\"a = %s\", a)\n",
    "        print(\"b = %s\", b)\n",
    "        print(\"c = %s\", c)\n",
    "        dis = b * b - 4 * a * c\n",
    "        sqrt_val = math.sqrt(abs(dis))\n",
    "\n",
    "        # checking condition for discriminant\n",
    "        if dis > 0:\n",
    "            print(\" real and different roots \")\n",
    "            print(\"x = %s\", (-b + sqrt_val) / (2 * a))\n",
    "            print(\"x = %s\", (-b - sqrt_val) / (2 * a))\n",
    "\n",
    "        elif dis == 0:\n",
    "            print(\" real and same roots\")\n",
    "            print(\"x = %s\", (-b / (2 * a)))\n",
    "\n",
    "        # when discriminant is less than 0\n",
    "        elif (dis < 0) :\n",
    "            print(\"Complex Roots\")\n",
    "            print(\"x = %s + i %s\",(- b / (2 * a)), sqrt_val)\n",
    "            print(\"x = %s - i %s\",(- b / (2 * a)), sqrt_val)\n",
    "\n",
    "\n",
    "\n",
    "# Driver Program\n",
    "while(True):\n",
    "    print( \" Quadratic equation format = ax^2 + bx + c\")\n",
    "    try:\n",
    "        a = float(input(\" Enter value for a = \"))\n",
    "        b = float(input(\" Enter value for b = \"))\n",
    "        c = float(input(\" Enter value for c = \"))\n",
    "    except Exception as e:\n",
    "        print(\"Please enter correct value\\n\",e)\n",
    "        continue\n",
    "\n",
    "\n",
    "\n",
    "# If a is 0, then incorrect equation\n",
    "    if a == 0:\n",
    "        print(\"Input correct quadratic equation\")\n",
    "        continue\n",
    "\n",
    "    else:\n",
    "        e = equations()\n",
    "        e.equationroots(a, b, c)\n",
    "    break"
   ]
  },
  {
   "cell_type": "code",
   "execution_count": 9,
   "id": "2d4bedc1",
   "metadata": {},
   "outputs": [
    {
     "name": "stdout",
     "output_type": "stream",
     "text": [
      "(20, 10)\n"
     ]
    }
   ],
   "source": [
    "#5.\tWrite a Python program to swap two variables without temp variable?\n",
    "def swap(a,b):\n",
    "    import logging\n",
    "    logging.basicConfig(filename='Swap.txt', level=logging.DEBUG,format= '%(name)s - %(levelname)s - %(message)s')\n",
    "    logging.info(\"This is a basic Swap variable program\")\n",
    "    a,b =b,a\n",
    "\n",
    "    return a,b\n",
    "print(swap(10,20))"
   ]
  },
  {
   "cell_type": "code",
   "execution_count": null,
   "id": "5bad8d91",
   "metadata": {},
   "outputs": [],
   "source": []
  }
 ],
 "metadata": {
  "kernelspec": {
   "display_name": "Python 3 (ipykernel)",
   "language": "python",
   "name": "python3"
  },
  "language_info": {
   "codemirror_mode": {
    "name": "ipython",
    "version": 3
   },
   "file_extension": ".py",
   "mimetype": "text/x-python",
   "name": "python",
   "nbconvert_exporter": "python",
   "pygments_lexer": "ipython3",
   "version": "3.9.12"
  }
 },
 "nbformat": 4,
 "nbformat_minor": 5
}
