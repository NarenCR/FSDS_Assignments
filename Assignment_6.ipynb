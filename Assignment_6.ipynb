{
  "metadata": {
    "language_info": {
      "codemirror_mode": {
        "name": "python",
        "version": 3
      },
      "file_extension": ".py",
      "mimetype": "text/x-python",
      "name": "python",
      "nbconvert_exporter": "python",
      "pygments_lexer": "ipython3",
      "version": "3.8"
    },
    "kernelspec": {
      "name": "python",
      "display_name": "Python (Pyodide)",
      "language": "python"
    }
  },
  "nbformat_minor": 4,
  "nbformat": 4,
  "cells": [
    {
      "cell_type": "code",
      "source": "#1. What are escape characters, and how do you use them?\nEscape character are to insert characters that increases the readability of program.\n\\ - used to add qoutes in strings ex: \"hello \\\"All\\\"\"\n\\t - used to crate a Tab space\n\\n - used to create new line\n\\b - used to remove a space basically backspace\n\\r - used to overwrite the previours line\n\\\\ - to print one blackslash\n\\f - to go to new page\n\\ooo - relevant things for octal values \n\\xhh - relevant things for Hex values",
      "metadata": {},
      "execution_count": null,
      "outputs": []
    },
    {
      "cell_type": "code",
      "source": "#2. What do the escape characters n and t stand for?\n\\t - used to create a Tab space\n\\n - used to create new line",
      "metadata": {
        "trusted": true
      },
      "execution_count": 4,
      "outputs": []
    },
    {
      "cell_type": "code",
      "source": "#3. What is the way to include backslash characters in a string?\n\\\\ - to print one blackslash\nex: print(\"Hello \\\\\")",
      "metadata": {
        "trusted": true
      },
      "execution_count": null,
      "outputs": []
    },
    {
      "cell_type": "code",
      "source": "#4. The string \"Howl's Moving Castle\" is a correct value. \nWhy isn't the single quote character in the word Howl's not escaped a problem?\nAns: Because its inside a double quotes if it was inside a single quotes we should go for escape charaters",
      "metadata": {
        "trusted": true
      },
      "execution_count": null,
      "outputs": []
    },
    {
      "cell_type": "code",
      "source": "'Howl\\'s Moving Castle' # it was showing syntax error without \\",
      "metadata": {
        "trusted": true
      },
      "execution_count": 23,
      "outputs": [
        {
          "execution_count": 23,
          "output_type": "execute_result",
          "data": {
            "text/plain": "\"Howl's Moving Castle\""
          },
          "metadata": {}
        }
      ]
    },
    {
      "cell_type": "code",
      "source": "#5. How do you write a string of newlines if you don't want to use the n character?\nprint them in a loop/seperately  so every time print gets executed a new line is created.",
      "metadata": {
        "trusted": true
      },
      "execution_count": null,
      "outputs": []
    },
    {
      "cell_type": "code",
      "source": "#6. What are the values of the given expressions?\n'Hello, world!'[1]  - e\n'Hello, world!'[0:5] - Hello\n'Hello, world!'[:5]- Hello\n'Hello, world!'[3:] - lo, world",
      "metadata": {
        "trusted": true
      },
      "execution_count": null,
      "outputs": []
    },
    {
      "cell_type": "code",
      "source": "#7. What are the values of the following expressions?\n'Hello'.upper()  - HELLO\n'Hello'.upper().isupper() - True\n'Hello'.upper().lower() - hello\n",
      "metadata": {},
      "execution_count": null,
      "outputs": []
    },
    {
      "cell_type": "code",
      "source": "#8. What are the values of the following expressions?\n'Remember, remember, the fifth of July.'.split() - ['Remember,', 'remember,', 'the', 'fifth', 'of', 'Jyly.']\n# .split() splits characters by white spaces by default\n'-'.join('There can only one.'.split()) - 'There-can-only-one'\n# first spliting is happening and its joined by \"-\"",
      "metadata": {
        "trusted": true
      },
      "execution_count": null,
      "outputs": []
    },
    {
      "cell_type": "code",
      "source": "#9. What are the methods for right-justifying, left-justifying, and centering a string?\ns=\"Naren\"\nprint(s.rjust(25,'*'))\nprint(s.ljust(25,'*'))\nprint(s.center(25,'*'))",
      "metadata": {
        "trusted": true
      },
      "execution_count": 50,
      "outputs": [
        {
          "name": "stdout",
          "text": "********************Naren\nNaren********************\n**********Naren**********\n",
          "output_type": "stream"
        }
      ]
    },
    {
      "cell_type": "code",
      "source": "#10. What is the best way to remove whitespace characters from the start or end?\nst = \"   Naren    \"\nprint(st.strip())\nprint(st.lstrip())\nprint(st.rstrip())",
      "metadata": {
        "trusted": true
      },
      "execution_count": 54,
      "outputs": [
        {
          "name": "stdout",
          "text": "Naren\nNaren    \n   Naren\n",
          "output_type": "stream"
        }
      ]
    },
    {
      "cell_type": "code",
      "source": "",
      "metadata": {},
      "execution_count": null,
      "outputs": []
    }
  ]
}