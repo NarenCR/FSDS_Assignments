{
  "metadata": {
    "language_info": {
      "codemirror_mode": {
        "name": "python",
        "version": 3
      },
      "file_extension": ".py",
      "mimetype": "text/x-python",
      "name": "python",
      "nbconvert_exporter": "python",
      "pygments_lexer": "ipython3",
      "version": "3.8"
    },
    "kernelspec": {
      "name": "python",
      "display_name": "Python (Pyodide)",
      "language": "python"
    }
  },
  "nbformat_minor": 4,
  "nbformat": 4,
  "cells": [
    {
      "cell_type": "code",
      "source": "1. Why are functions advantageous to have in your programs?\n1.if some part of code needs to be repeated again and again we can define a function and call it numerous times as we want.\n2. we can call the same function within that fuction itself and do recursion. we can reduce a complicated function to a simple function.\n3. reusability, easy understainding, easier to edit, time saving",
      "metadata": {},
      "execution_count": null,
      "outputs": []
    },
    {
      "cell_type": "code",
      "source": "2. When does the code in a function run: when it's specified or when it's called?\nwhen the fuction is called code inside the function will be executed.\ndef sum(a,b):\n    s = a + b\n    return s\nprint(sum(1,2)) --> function call\n\n\n    ",
      "metadata": {},
      "execution_count": null,
      "outputs": []
    },
    {
      "cell_type": "code",
      "source": "3. What statement creates a function?\ndef function_name():",
      "metadata": {},
      "execution_count": null,
      "outputs": []
    },
    {
      "cell_type": "code",
      "source": "4. What is the difference between a function and a function call?\ndef sum(a,b):  --> function\n    s = a + b\n    return s\nprint(sum(1,2)) --> function call\ndefining function and the program inside the function is function.\nif we need to excute that function we need to call it. that is function call\n",
      "metadata": {},
      "execution_count": null,
      "outputs": []
    },
    {
      "cell_type": "code",
      "source": "5. How many global scopes are there in a Python program? How many local scopes?\n--> there are 1 global scope per variable and 1 local scope per function.\n--> Varible with global scope can be used anywhere in the program\n--> but Variables with local scope can only be used in the fuction where it is assigned. it will not be accessible outside of function unless\ndefined as global varible using keyword global.",
      "metadata": {},
      "execution_count": null,
      "outputs": []
    },
    {
      "cell_type": "code",
      "source": "6. What happens to variables in a local scope when the function call returns?\nwhen the fuction call return the variable will be disallocated from the memory, when the function is called again variable is recreated.",
      "metadata": {},
      "execution_count": null,
      "outputs": []
    },
    {
      "cell_type": "code",
      "source": "7. What is the concept of a return value? Is it possible to have a return value in an expression?\nretrun marks the end of the function literally and it will retrun the value of the variables specified in return statement to the calling function.\nyes it is possible to have return as expression.\ndef multiple_of_5(x):\n      return 5*x\nprint(multiple_of_5(3))\n   ",
      "metadata": {},
      "execution_count": null,
      "outputs": []
    },
    {
      "cell_type": "code",
      "source": "8. If a function does not have a return statement, what is the return value of a call to that function?\nif there is no return statement in the function, it will return nothing when called. so None will be outputed.\n\nout: None",
      "metadata": {},
      "execution_count": null,
      "outputs": []
    },
    {
      "cell_type": "code",
      "source": "9. How do you make a function variable refer to the global variable?\nby defining the global varible before the calling function or inside the calling function\ndef multiple_of_5(x):\n    \n    a=5\n    return 5*x\nx=4      \nprint(multiple_of_5(x))\nprint(multiple_of_5(x=5))",
      "metadata": {},
      "execution_count": null,
      "outputs": []
    },
    {
      "cell_type": "code",
      "source": "10. What is the data type of None?\nNoneType",
      "metadata": {},
      "execution_count": null,
      "outputs": []
    },
    {
      "cell_type": "code",
      "source": "11. What does the sentence import areallyourpetsnamederic do?\nthere is no function name areallyourpetsnamederic inside defaut python libraries.\nbut generally it will import all the function stored inside this library we are importing.\nimport matplotlib as pl\nso here we can plot some graphs using this library.",
      "metadata": {},
      "execution_count": null,
      "outputs": []
    },
    {
      "cell_type": "code",
      "source": "12. If you had a bacon() feature in a spam module, what would you call it after importing spam?\nspam.bacon()",
      "metadata": {},
      "execution_count": null,
      "outputs": []
    },
    {
      "cell_type": "code",
      "source": "13. What can you do to save a programme from crashing if it encounters an error?\nwe can try and except to save a program from crashing, exception handling",
      "metadata": {},
      "execution_count": null,
      "outputs": []
    },
    {
      "cell_type": "code",
      "source": "14. What is the purpose of the try clause? What is the purpose of the except clause?\nif there are errors in a program we can skip the error using try and except caluse\ntry:\n   fh = open(\"testfile\", \"r\")\n   fh.write(\"This is my test file for exception handling!!\")\nexcept IOError:\n   print \"Error: can\\'t find file or read data\"\nelse:\n   print \"Written content in the file successfully\"\n   fh.close()\n#need to look into how to define except block",
      "metadata": {},
      "execution_count": null,
      "outputs": []
    },
    {
      "cell_type": "code",
      "source": "",
      "metadata": {},
      "execution_count": null,
      "outputs": []
    }
  ]
}