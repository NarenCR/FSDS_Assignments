{
  "cells": [
    {
      "cell_type": "code",
      "execution_count": null,
      "metadata": {},
      "outputs": [],
      "source": [
        "1. Why are functions advantageous to have in your programs?\n",
        "1.if some part of code needs to be repeated again and again we can define a function and call it numerous times as we want.\n",
        "2. we can call the same function within that fuction itself and do recursion. we can reduce a complicated function to a simple function.\n",
        "3. reusability, easy understainding, easier to edit, time saving"
      ]
    },
    {
      "cell_type": "code",
      "execution_count": null,
      "metadata": {},
      "outputs": [],
      "source": [
        "2. When does the code in a function run: when it's specified or when it's called?\n",
        "when the fuction is called code inside the function will be executed.\n",
        "def sum(a,b):\n",
        "    s = a + b\n",
        "    return s\n",
        "print(sum(1,2)) --> function call\n",
        "\n",
        "\n",
        "    "
      ]
    },
    {
      "cell_type": "code",
      "execution_count": null,
      "metadata": {},
      "outputs": [],
      "source": [
        "3. What statement creates a function?\n",
        "def function_name():"
      ]
    },
    {
      "cell_type": "code",
      "execution_count": null,
      "metadata": {},
      "outputs": [],
      "source": [
        "4. What is the difference between a function and a function call?\n",
        "def sum(a,b):  --> function\n",
        "    s = a + b\n",
        "    return s\n",
        "print(sum(1,2)) --> function call\n",
        "defining function and the program inside the function is function.\n",
        "if we need to excute that function we need to call it. that is function call\n"
      ]
    },
    {
      "cell_type": "code",
      "execution_count": null,
      "metadata": {},
      "outputs": [],
      "source": [
        "5. How many global scopes are there in a Python program? How many local scopes?\n",
        "--> there are 1 global scope per variable and 1 local scope per function.\n",
        "--> Varible with global scope can be used anywhere in the program\n",
        "--> but Variables with local scope can only be used in the fuction where it is assigned. it will not be accessible outside of function unless\n",
        "defined as global varible using keyword global."
      ]
    },
    {
      "cell_type": "code",
      "execution_count": null,
      "metadata": {},
      "outputs": [],
      "source": [
        "6. What happens to variables in a local scope when the function call returns?\n",
        "when the fuction call return the variable will be disallocated from the memory, when the function is called again variable is recreated."
      ]
    },
    {
      "cell_type": "code",
      "execution_count": null,
      "metadata": {},
      "outputs": [],
      "source": [
        "7. What is the concept of a return value? Is it possible to have a return value in an expression?\n",
        "retrun marks the end of the function literally and it will retrun the value of the variables specified in return statement to the calling function.\n",
        "yes it is possible to have return as expression.\n",
        "def multiple_of_5(x):\n",
        "      return 5*x\n",
        "print(multiple_of_5(3))\n",
        "   "
      ]
    },
    {
      "cell_type": "code",
      "execution_count": null,
      "metadata": {},
      "outputs": [],
      "source": [
        "8. If a function does not have a return statement, what is the return value of a call to that function?\n",
        "if there is no return statement in the function, it will return nothing when called. so None will be outputed.\n",
        "\n",
        "out: None"
      ]
    },
    {
      "cell_type": "code",
      "execution_count": null,
      "metadata": {},
      "outputs": [],
      "source": [
        "9. How do you make a function variable refer to the global variable?\n",
        "by defining the global varible before the calling function or inside the calling function\n",
        "def multiple_of_5(x):\n",
        "    \n",
        "    a=5\n",
        "    return 5*x\n",
        "x=4      \n",
        "print(multiple_of_5(x))\n",
        "print(multiple_of_5(x=5))"
      ]
    },
    {
      "cell_type": "code",
      "execution_count": null,
      "metadata": {},
      "outputs": [],
      "source": [
        "10. What is the data type of None?\n",
        "NoneType"
      ]
    },
    {
      "cell_type": "code",
      "execution_count": null,
      "metadata": {},
      "outputs": [],
      "source": [
        "11. What does the sentence import areallyourpetsnamederic do?\n",
        "there is no function name areallyourpetsnamederic inside defaut python libraries.\n",
        "but generally it will import all the function stored inside this library we are importing.\n",
        "import matplotlib as pl\n",
        "so here we can plot some graphs using this library."
      ]
    },
    {
      "cell_type": "code",
      "execution_count": null,
      "metadata": {},
      "outputs": [],
      "source": [
        "12. If you had a bacon() feature in a spam module, what would you call it after importing spam?\n",
        "spam.bacon()"
      ]
    },
    {
      "cell_type": "code",
      "execution_count": null,
      "metadata": {},
      "outputs": [],
      "source": [
        "13. What can you do to save a programme from crashing if it encounters an error?\n",
        "we can try and except to save a program from crashing, exception handling"
      ]
    },
    {
      "cell_type": "code",
      "execution_count": null,
      "metadata": {},
      "outputs": [],
      "source": [
        "14. What is the purpose of the try clause? What is the purpose of the except clause?\n",
        "if there are some runtime errors expected in a program we use try and except caluse which will be more user friendly.\n",
        "try:\n",
        "   fh = open(\"testfile\", \"r\")\n",
        "   fh.write(\"This is my test file for exception handling!!\")\n",
        "except IOError:\n",
        "   print \"Error: can\\'t find file or read data\"\n",
        "else:\n",
        "   print \"Written content in the file successfully\"\n",
        "   fh.close()\n",
        "#need to look into how to define except block"
      ]
    },
    {
      "cell_type": "code",
      "execution_count": null,
      "metadata": {},
      "outputs": [],
      "source": []
    }
  ],
  "metadata": {
    "kernelspec": {
      "display_name": "Python (Pyodide)",
      "language": "python",
      "name": "python"
    },
    "language_info": {
      "codemirror_mode": {
        "name": "python",
        "version": 3
      },
      "file_extension": ".py",
      "mimetype": "text/x-python",
      "name": "python",
      "nbconvert_exporter": "python",
      "pygments_lexer": "ipython3",
      "version": "3.8"
    }
  },
  "nbformat": 4,
  "nbformat_minor": 4
}
