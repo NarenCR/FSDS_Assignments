{
 "cells": [
  {
   "cell_type": "code",
   "execution_count": 1,
   "id": "ee45f0cf",
   "metadata": {},
   "outputs": [
    {
     "name": "stdout",
     "output_type": "stream",
     "text": [
      "Hello Python\n"
     ]
    }
   ],
   "source": [
    "#1.\tWrite a Python program to print \"Hello Python\"?\n",
    "def Hello():\n",
    "    return \"Hello Python\"\n",
    "print(Hello())"
   ]
  },
  {
   "cell_type": "code",
   "execution_count": 7,
   "id": "08a73447",
   "metadata": {},
   "outputs": [
    {
     "name": "stdout",
     "output_type": "stream",
     "text": [
      "Enter the first number: 121\n",
      "Enter next number : 21321\n",
      "Enter the arithmetic operation to perform\n",
      " '+' for Addition\n",
      " '' for Divison\n",
      " '=' to end operation\n",
      " Your operation:  +\n",
      "121.0  +  21321.0\n",
      "21442.0\n",
      "Enter next number : 121\n",
      "Enter the arithmetic operation to perform\n",
      " '+' for Addition\n",
      " '' for Divison\n",
      " '=' to end operation\n",
      " Your operation:  /\n",
      "21442.0 / 121.0\n",
      "177.20661157024793\n",
      "Enter next number : 12\n",
      "Enter the arithmetic operation to perform\n",
      " '+' for Addition\n",
      " '' for Divison\n",
      " '=' to end operation\n",
      " Your operation:  =\n",
      "Final value:  177.20661157024793\n"
     ]
    }
   ],
   "source": [
    "#2.\tWrite a Python program to do arithmetical operations addition and division.?\n",
    "def Ari_op():\n",
    "    while(True):\n",
    "        try:\n",
    "            a = float(input(\"Enter the first number: \"))\n",
    "            while (True):\n",
    "                try:\n",
    "                    b = float(input(\"Enter next number : \"))\n",
    "                except Exception as e:\n",
    "                    print(e, \"only numbers can be given as input\")\n",
    "                    continue\n",
    "\n",
    "                Choice = input(\"Enter the arithmetic operation to perform\\n '+' for Addition\\n '\\' for Divison\\n '=' to end operation\\n Your operation:  \")\n",
    "\n",
    "\n",
    "                if Choice == '+' or '/' or '=':\n",
    "                    if Choice == '+':\n",
    "                        print(a,' + ',b)\n",
    "                        a=Add(a, b)\n",
    "                        print(a)\n",
    "                    if Choice == '/':\n",
    "                        print(a, '/', b)\n",
    "                        a=Div(a, b)\n",
    "                        print(a)\n",
    "                    if Choice == '=':\n",
    "                        print(\"Final value: \",a)\n",
    "                        break\n",
    "\n",
    "\n",
    "                else:\n",
    "                    print(\"only these characters are accepted \\\"'+','/','='\\\"\")\n",
    "                    continue\n",
    "        except Exception as e:\n",
    "            print(e,\" only numbers can be given as input\")\n",
    "            continue\n",
    "        break\n",
    "\n",
    "def Add(a, b):\n",
    "    sum = a + b\n",
    "    a = sum\n",
    "    #print(a)\n",
    "    return a\n",
    "\n",
    "def Div(a, b):\n",
    "    div = a / b\n",
    "    a = div\n",
    "    #print(a)\n",
    "    return a\n",
    "\n",
    "\n",
    "Ari_op()"
   ]
  },
  {
   "cell_type": "code",
   "execution_count": 6,
   "id": "34c9f1f1",
   "metadata": {},
   "outputs": [],
   "source": [
    "#Write a Python program to find the area of a triangle?"
   ]
  },
  {
   "cell_type": "code",
   "execution_count": 2,
   "id": "e3bd13c6",
   "metadata": {},
   "outputs": [
    {
     "name": "stdout",
     "output_type": "stream",
     "text": [
      "Base width of Triangle: 21.3\n",
      "Height of triangle: 32.1\n",
      "Area =  341.865\n"
     ]
    }
   ],
   "source": [
    "def Triangle():\n",
    "    import logging\n",
    "    logging.basicConfig(filename='Area.txt', level=logging.DEBUG,format= '%(name)s - %(levelname)s - %(message)s')\n",
    "    logging.info(\"This is a basic Area of Triangle program\")\n",
    "\n",
    "    while(True):\n",
    "        try:\n",
    "            b= float(input(\"Base width of Triangle: \"))\n",
    "            h= float(input(\"Height of triangle: \"))\n",
    "\n",
    "        except Exception as e:\n",
    "            print(e, 'Please input only numbers ')\n",
    "            logging.error(\"%s\",e)\n",
    "            continue\n",
    "        Area = 0.5*b*h\n",
    "        logging.info('Base of Triangle = %s', str(b))\n",
    "        logging.info('Height of Triangle  = %s', str(h))\n",
    "        logging.info('Formula used is \"(1/2)*base*height of triangle\"')\n",
    "        logging.info('Area of Triangle =%s ', Area)\n",
    "        break\n",
    "    return Area\n",
    "print(\"Area = \",Triangle())\n",
    "  "
   ]
  },
  {
   "cell_type": "code",
   "execution_count": 5,
   "id": "fb553202",
   "metadata": {},
   "outputs": [
    {
     "name": "stdout",
     "output_type": "stream",
     "text": [
      "('t', 's')\n"
     ]
    }
   ],
   "source": [
    "#Write a Python program to swap two variables?\n",
    "def swap(a,b):\n",
    "    import logging\n",
    "    logging.basicConfig(filename='Swap.txt', level=logging.DEBUG,format= '%(name)s - %(levelname)s - %(message)s')\n",
    "    logging.info(\"This is a basic Swap variable program\")\n",
    "    temp = a\n",
    "    a = b\n",
    "    b = temp\n",
    "    \n",
    "    return a,b\n",
    "print(swap('s','t'))"
   ]
  },
  {
   "cell_type": "code",
   "execution_count": 11,
   "id": "8a6908fa",
   "metadata": {},
   "outputs": [
    {
     "name": "stdout",
     "output_type": "stream",
     "text": [
      "9\n"
     ]
    }
   ],
   "source": [
    "#Write a Python program to generate a random number?\n",
    "try:\n",
    "    def rand(c):\n",
    "        import random\n",
    "        b= random.randint(0,c)\n",
    "        return b\n",
    "except Exception as e:\n",
    "    print(\"Enter integers pls \",e)\n",
    "print(rand(10))\n"
   ]
  },
  {
   "cell_type": "code",
   "execution_count": null,
   "id": "23355059",
   "metadata": {},
   "outputs": [],
   "source": []
  }
 ],
 "metadata": {
  "kernelspec": {
   "display_name": "Python 3 (ipykernel)",
   "language": "python",
   "name": "python3"
  },
  "language_info": {
   "codemirror_mode": {
    "name": "ipython",
    "version": 3
   },
   "file_extension": ".py",
   "mimetype": "text/x-python",
   "name": "python",
   "nbconvert_exporter": "python",
   "pygments_lexer": "ipython3",
   "version": "3.9.12"
  }
 },
 "nbformat": 4,
 "nbformat_minor": 5
}
