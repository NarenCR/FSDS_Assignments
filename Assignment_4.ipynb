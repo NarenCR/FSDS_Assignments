{
  "metadata": {
    "language_info": {
      "codemirror_mode": {
        "name": "python",
        "version": 3
      },
      "file_extension": ".py",
      "mimetype": "text/x-python",
      "name": "python",
      "nbconvert_exporter": "python",
      "pygments_lexer": "ipython3",
      "version": "3.8"
    },
    "kernelspec": {
      "name": "python",
      "display_name": "Python (Pyodide)",
      "language": "python"
    }
  },
  "nbformat_minor": 4,
  "nbformat": 4,
  "cells": [
    {
      "cell_type": "code",
      "source": "1. What exactly is []?\nempty list / square brackets",
      "metadata": {},
      "execution_count": null,
      "outputs": []
    },
    {
      "cell_type": "code",
      "source": "2. In a list of values stored in a variable called spam, how would you assign the value 'hello' as the third value? (Assume [2, 4, 6, 8, 10] are in spam.)",
      "metadata": {},
      "execution_count": null,
      "outputs": []
    },
    {
      "cell_type": "code",
      "source": "#by using insert command\nspam=[2,4,6,8,10]\nspam.insert(2,'hello')\nprint(spam)",
      "metadata": {
        "trusted": true
      },
      "execution_count": 2,
      "outputs": [
        {
          "name": "stdout",
          "text": "[2, 4, 'hello', 6, 8, 10]\n",
          "output_type": "stream"
        }
      ]
    },
    {
      "cell_type": "code",
      "source": "#Let's pretend the spam includes the list ['a', 'b', 'c', 'd'] for the next three queries.\nspam=['a', 'b', 'c', 'd']",
      "metadata": {
        "trusted": true
      },
      "execution_count": 3,
      "outputs": []
    },
    {
      "cell_type": "code",
      "source": "3. What is the value of spam[int(int('3' * 2) / 11)]?",
      "metadata": {},
      "execution_count": null,
      "outputs": []
    },
    {
      "cell_type": "code",
      "source": "spam[int(int('3' * 2) / 11)]\n# '3'*2 = 33\n# 33/11 = 3\nspam[3]",
      "metadata": {
        "trusted": true
      },
      "execution_count": 7,
      "outputs": [
        {
          "execution_count": 7,
          "output_type": "execute_result",
          "data": {
            "text/plain": "'d'"
          },
          "metadata": {}
        }
      ]
    },
    {
      "cell_type": "code",
      "source": "4. What is the value of spam[-1]?\n'd'\n#last value in spam list will be outputed",
      "metadata": {
        "trusted": true
      },
      "execution_count": 9,
      "outputs": []
    },
    {
      "cell_type": "code",
      "source": "spam[-1]",
      "metadata": {
        "trusted": true
      },
      "execution_count": 10,
      "outputs": [
        {
          "execution_count": 10,
          "output_type": "execute_result",
          "data": {
            "text/plain": "'d'"
          },
          "metadata": {}
        }
      ]
    },
    {
      "cell_type": "code",
      "source": "5. What is the value of spam[:2]?\n['a','b']\n# spam[0] & spam[1] will be outputed",
      "metadata": {},
      "execution_count": null,
      "outputs": []
    },
    {
      "cell_type": "code",
      "source": "spam[:2]",
      "metadata": {
        "trusted": true
      },
      "execution_count": 11,
      "outputs": [
        {
          "execution_count": 11,
          "output_type": "execute_result",
          "data": {
            "text/plain": "['a', 'b']"
          },
          "metadata": {}
        }
      ]
    },
    {
      "cell_type": "code",
      "source": "#Let's pretend bacon has the list [3.14, 'cat,' 11, 'cat,' True] for the next three questions.\nbacon = [3.14, 'cat', 11, 'cat', True]",
      "metadata": {
        "trusted": true
      },
      "execution_count": 13,
      "outputs": []
    },
    {
      "cell_type": "code",
      "source": "6. What is the value of bacon.index('cat')?\n1\n# first cat's index will be printed",
      "metadata": {},
      "execution_count": null,
      "outputs": []
    },
    {
      "cell_type": "code",
      "source": "bacon.index('cat')",
      "metadata": {
        "trusted": true
      },
      "execution_count": 14,
      "outputs": [
        {
          "execution_count": 14,
          "output_type": "execute_result",
          "data": {
            "text/plain": "1"
          },
          "metadata": {}
        }
      ]
    },
    {
      "cell_type": "code",
      "source": "7. How does bacon.append(99) change the look of the list value in bacon?\ninteger 99 will be appended in last ins=dex of list",
      "metadata": {},
      "execution_count": null,
      "outputs": []
    },
    {
      "cell_type": "code",
      "source": "bacon = [3.14, 'cat', 11, 'cat', True]\nbacon.append(99)\nbacon",
      "metadata": {
        "trusted": true
      },
      "execution_count": 17,
      "outputs": [
        {
          "execution_count": 17,
          "output_type": "execute_result",
          "data": {
            "text/plain": "[3.14, 'cat', 11, 'cat', True, 99]"
          },
          "metadata": {}
        }
      ]
    },
    {
      "cell_type": "code",
      "source": "8. How does bacon.remove('cat') change the look of the list in bacon?\n# only first cat will be removed from list",
      "metadata": {},
      "execution_count": null,
      "outputs": []
    },
    {
      "cell_type": "code",
      "source": "bacon.remove('cat')\nbacon",
      "metadata": {
        "trusted": true
      },
      "execution_count": 18,
      "outputs": [
        {
          "execution_count": 18,
          "output_type": "execute_result",
          "data": {
            "text/plain": "[3.14, 11, 'cat', True, 99]"
          },
          "metadata": {}
        }
      ]
    },
    {
      "cell_type": "code",
      "source": "9. What are the list concatenation and list replication operators?\n + for concatenation\n * for replication",
      "metadata": {},
      "execution_count": null,
      "outputs": []
    },
    {
      "cell_type": "code",
      "source": "spam + bacon\n",
      "metadata": {
        "trusted": true
      },
      "execution_count": 20,
      "outputs": [
        {
          "execution_count": 20,
          "output_type": "execute_result",
          "data": {
            "text/plain": "['a', 'b', 'c', 'd', 3.14, 11, 'cat', True, 99]"
          },
          "metadata": {}
        }
      ]
    },
    {
      "cell_type": "code",
      "source": "spam * 2",
      "metadata": {
        "trusted": true
      },
      "execution_count": 21,
      "outputs": [
        {
          "execution_count": 21,
          "output_type": "execute_result",
          "data": {
            "text/plain": "['a', 'b', 'c', 'd', 'a', 'b', 'c', 'd']"
          },
          "metadata": {}
        }
      ]
    },
    {
      "cell_type": "code",
      "source": "10. What is difference between the list methods append() and insert()?\ninsert will add values at the specified index of the list spam.insert(2,'hello')\nappend will add values at the last index of the list bacon.append(99)",
      "metadata": {},
      "execution_count": null,
      "outputs": []
    },
    {
      "cell_type": "code",
      "source": "11. What are the two methods for removing items from a list?\npop and remove\ndel is also there",
      "metadata": {},
      "execution_count": null,
      "outputs": []
    },
    {
      "cell_type": "code",
      "source": "a = spam*2",
      "metadata": {
        "trusted": true
      },
      "execution_count": 22,
      "outputs": []
    },
    {
      "cell_type": "code",
      "source": "# pop removes the items at specified index and it takes default index is last index if index is not specified\n# it returns the removed item\na.pop()",
      "metadata": {
        "trusted": true
      },
      "execution_count": 23,
      "outputs": [
        {
          "execution_count": 23,
          "output_type": "execute_result",
          "data": {
            "text/plain": "'d'"
          },
          "metadata": {}
        }
      ]
    },
    {
      "cell_type": "code",
      "source": "#removes deletes the first occurance of the specified item in list\n# does not return any value\na.remove('a')\na",
      "metadata": {
        "trusted": true
      },
      "execution_count": 26,
      "outputs": [
        {
          "execution_count": 26,
          "output_type": "execute_result",
          "data": {
            "text/plain": "['b', 'c', 'd', 'b', 'c']"
          },
          "metadata": {}
        }
      ]
    },
    {
      "cell_type": "code",
      "source": "# removes item in the specified index on list\ndel a[0]",
      "metadata": {
        "trusted": true
      },
      "execution_count": 27,
      "outputs": []
    },
    {
      "cell_type": "code",
      "source": "a",
      "metadata": {
        "trusted": true
      },
      "execution_count": 28,
      "outputs": [
        {
          "execution_count": 28,
          "output_type": "execute_result",
          "data": {
            "text/plain": "['c', 'd', 'b', 'c']"
          },
          "metadata": {}
        }
      ]
    },
    {
      "cell_type": "code",
      "source": "12. Describe how list values and string values are identical.\nwe can extract each elements of string and list using index.\nwe can also perform certain operatios like sort with list and string\nthese are identical with string and list",
      "metadata": {},
      "execution_count": null,
      "outputs": []
    },
    {
      "cell_type": "code",
      "source": "13. What's the difference between tuples and lists?\n-->Tuples are immutable, elements are enclosed in curly brackets(1,2,3,4)\nwe cannot change any elemnts in tuples.\n--> List are mutable, elements are enclosed in squrae brackets [1,2,3,4,'hi']\nwe can do numerous operations with list, like sorting, pop, remove, append, insert..",
      "metadata": {},
      "execution_count": null,
      "outputs": []
    },
    {
      "cell_type": "code",
      "source": "#14. How do you type a tuple value that only contains the integer 42?\nt=(42)",
      "metadata": {
        "trusted": true
      },
      "execution_count": 29,
      "outputs": []
    },
    {
      "cell_type": "code",
      "source": "t",
      "metadata": {
        "trusted": true
      },
      "execution_count": 30,
      "outputs": [
        {
          "execution_count": 30,
          "output_type": "execute_result",
          "data": {
            "text/plain": "42"
          },
          "metadata": {}
        }
      ]
    },
    {
      "cell_type": "code",
      "source": "15. How do you get a list value's tuple form? How do you get a tuple value's list form?",
      "metadata": {},
      "execution_count": null,
      "outputs": []
    },
    {
      "cell_type": "code",
      "source": "l=[1,2,3,4,5] # list\nt=(6,7,8,9,10) # Tuple\n",
      "metadata": {
        "trusted": true
      },
      "execution_count": 37,
      "outputs": []
    },
    {
      "cell_type": "code",
      "source": "tuple(l) # list value in tuple form",
      "metadata": {
        "trusted": true
      },
      "execution_count": 38,
      "outputs": [
        {
          "execution_count": 38,
          "output_type": "execute_result",
          "data": {
            "text/plain": "(1, 2, 3, 4, 5)"
          },
          "metadata": {}
        }
      ]
    },
    {
      "cell_type": "code",
      "source": "list(t) # tuples in list form",
      "metadata": {
        "trusted": true
      },
      "execution_count": 36,
      "outputs": [
        {
          "execution_count": 36,
          "output_type": "execute_result",
          "data": {
            "text/plain": "[6, 7, 8, 9, 10]"
          },
          "metadata": {}
        }
      ]
    },
    {
      "cell_type": "code",
      "source": "16. Variables that \"contain\" list values are not necessarily lists themselves. Instead, what do they contain?\nlist elemts can be list, set, tuple, string, dict and numericals.",
      "metadata": {},
      "execution_count": null,
      "outputs": []
    },
    {
      "cell_type": "code",
      "source": "17. How do you distinguish between copy.copy() and copy.deepcopy()?\ncopy.copy() will share the orginal values with new varible created using copy and if some change are done in copy it will be reflected in original also.\ncopy.deepcopy() will create a new varible and assign the copied elemts from orginal to this deepcopy() and if some change d",
      "metadata": {},
      "execution_count": null,
      "outputs": []
    }
  ]
}