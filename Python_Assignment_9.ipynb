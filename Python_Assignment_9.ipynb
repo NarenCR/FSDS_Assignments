{
 "cells": [
  {
   "cell_type": "code",
   "execution_count": 1,
   "id": "67ed913e-4275-42af-bf87-cb3fe8dcda5d",
   "metadata": {},
   "outputs": [],
   "source": [
    "#1. To what does a relative path refer?\n",
    "#Ans : Relative path refers to current working directory"
   ]
  },
  {
   "cell_type": "code",
   "execution_count": 2,
   "id": "965b5410-0751-4907-a1df-0868463987cc",
   "metadata": {},
   "outputs": [],
   "source": [
    "#2. What does an absolute path start with your operating system?\n",
    "#Ans; Absolute path starts from the absolute start of hard drive and succeesive folder to reach the destination."
   ]
  },
  {
   "cell_type": "code",
   "execution_count": 3,
   "id": "a1ff5e0d-33f1-4353-b2c2-ec61e177f909",
   "metadata": {},
   "outputs": [],
   "source": [
    "#3. What do the functions os.getcwd() and os.chdir() do?\n",
    "# os.getcwd() - shows current working directory\n",
    "# os.chdir() -  changes current working directory to specified location."
   ]
  },
  {
   "cell_type": "code",
   "execution_count": 4,
   "id": "a0e5865c-a958-4037-a7aa-36518292cb35",
   "metadata": {},
   "outputs": [],
   "source": [
    "#4. What are the . and .. folders?\n",
    "# . - to represt current working directory\n",
    "# .. - represents parent folder"
   ]
  },
  {
   "cell_type": "code",
   "execution_count": 5,
   "id": "d4d73e7b-399c-48a1-bde4-87fbbe33a853",
   "metadata": {},
   "outputs": [],
   "source": [
    "#5. In C:\\bacon\\eggs\\spam.txt, which part is the dir name, and which part is the base name?\n",
    "# C:\\bacon\\eggs is dir name\n",
    "# spam.txt is base name"
   ]
  },
  {
   "cell_type": "code",
   "execution_count": 6,
   "id": "c9e5d057-fefe-4398-a01b-ed598509edb6",
   "metadata": {},
   "outputs": [],
   "source": [
    "#6. What are the three “mode” arguments that can be passed to the open() function?\n",
    "# read r\n",
    "# write w\n",
    "# append a"
   ]
  },
  {
   "cell_type": "code",
   "execution_count": 7,
   "id": "c009a969-acf5-48c4-af2e-3d80d338a04a",
   "metadata": {},
   "outputs": [],
   "source": [
    "#7. What happens if an existing file is opened in write mode?\n",
    "# exisiting file will be rewritten as fresh file."
   ]
  },
  {
   "cell_type": "code",
   "execution_count": 8,
   "id": "82091ebe-13c0-4db8-81df-1d8dd8b6640d",
   "metadata": {},
   "outputs": [],
   "source": [
    "#8. How do you tell the difference between read() and readlines()?\n",
    "# read() returns files entire content as a single string\n",
    "# readlines() returns list of string, where each string is a line in file."
   ]
  },
  {
   "cell_type": "code",
   "execution_count": null,
   "id": "0b8a783a-13e3-4522-ad91-cce0588aa3d6",
   "metadata": {},
   "outputs": [],
   "source": [
    "#9. What data structure does a shelf value resemble?\n",
    "# shelf value resembles dict()"
   ]
  }
 ],
 "metadata": {
  "kernelspec": {
   "display_name": "Python 3 (ipykernel)",
   "language": "python",
   "name": "python3"
  },
  "language_info": {
   "codemirror_mode": {
    "name": "ipython",
    "version": 3
   },
   "file_extension": ".py",
   "mimetype": "text/x-python",
   "name": "python",
   "nbconvert_exporter": "python",
   "pygments_lexer": "ipython3",
   "version": "3.10.6"
  }
 },
 "nbformat": 4,
 "nbformat_minor": 5
}
