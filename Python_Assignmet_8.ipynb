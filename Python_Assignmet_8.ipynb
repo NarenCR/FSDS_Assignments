{
 "cells": [
  {
   "cell_type": "raw",
   "id": "b73eb788-e07e-431e-920a-86ab3d17ad61",
   "metadata": {},
   "source": [
    "1. Is the Python Standard Library included with PyInputPlus?"
   ]
  },
  {
   "cell_type": "raw",
   "id": "06eb82f7-7c01-4bb0-9f76-d2677478d480",
   "metadata": {},
   "source": [
    "Ans: No PyInputPlus is not included with python standard library."
   ]
  },
  {
   "cell_type": "raw",
   "id": "313abc93-3636-42c8-96c4-56167da86357",
   "metadata": {},
   "source": [
    "2. Why is PyInputPlus commonly imported with import pyinputplus as pypi?"
   ]
  },
  {
   "cell_type": "raw",
   "id": "1f7290c0-910f-425c-ad77-9f930113d776",
   "metadata": {},
   "source": [
    "Ans: PyInputPlus can be substitued with any string, but may because its widely used as pypi among programmers and easy to understand."
   ]
  },
  {
   "cell_type": "raw",
   "id": "71173ae9-46e3-4068-8da7-5bba5d2e580d",
   "metadata": {},
   "source": [
    "3. How do you distinguish between inputInt() and inputFloat()?"
   ]
  },
  {
   "cell_type": "raw",
   "id": "aff7df8b-9a22-4a08-b292-3a6467249a3d",
   "metadata": {},
   "source": [
    "Ans: inputInt() only accepts integer values and returns integer value only\n",
    "     inputFloat() accepts and returns only floating point values\n",
    "and both has min/max/greaterThan/lessThan parameters to specify conditioins."
   ]
  },
  {
   "cell_type": "raw",
   "id": "268343e7-9b56-48e2-af1b-c5e34bce3300",
   "metadata": {},
   "source": [
    "4. Using PyInputPlus, how do you ensure that the user enters a whole number between 0 and 99?"
   ]
  },
  {
   "cell_type": "raw",
   "id": "34d90616-bb09-4f85-9ce4-6f96f6150369",
   "metadata": {},
   "source": [
    "#Ans: \n",
    "import PyInputPlus as pypi\n",
    "r = pypi.inputInt(min = 0, max = 99)"
   ]
  },
  {
   "cell_type": "raw",
   "id": "d33a9f84-e707-4bb4-bb5d-58b7d873dc08",
   "metadata": {},
   "source": [
    "5. What is transferred to the keyword arguments allowRegexes and blockRegexes?"
   ]
  },
  {
   "cell_type": "raw",
   "id": "539d037e-47c4-4dc4-b8d7-0d6c130395a5",
   "metadata": {},
   "source": [
    "allowRegexes - allows specified str explicitly as input\n",
    "blockRegexes - block specified str as input"
   ]
  },
  {
   "cell_type": "raw",
   "id": "f864e10f-a724-4acc-a598-4611dbe405f7",
   "metadata": {},
   "source": [
    "6. If a blank input is entered three times, what does inputStr(limit=3) do?"
   ]
  },
  {
   "cell_type": "raw",
   "id": "0e8ff199-306b-45fc-ba9b-c306df2b249b",
   "metadata": {},
   "source": [
    "Ans: The function will raise RetryLimitException."
   ]
  },
  {
   "cell_type": "raw",
   "id": "450afe96-959c-4e27-b1b4-a879b5ebd9a2",
   "metadata": {},
   "source": [
    "7. If blank input is entered three times, what does inputStr(limit=3, default='hello') do?"
   ]
  },
  {
   "cell_type": "raw",
   "id": "dac18a22-f33b-4d87-8fb2-ee40dd91a190",
   "metadata": {},
   "source": [
    "Ans: default value 'hello' will be returned."
   ]
  }
 ],
 "metadata": {
  "kernelspec": {
   "display_name": "Python 3 (ipykernel)",
   "language": "python",
   "name": "python3"
  },
  "language_info": {
   "codemirror_mode": {
    "name": "ipython",
    "version": 3
   },
   "file_extension": ".py",
   "mimetype": "text/x-python",
   "name": "python",
   "nbconvert_exporter": "python",
   "pygments_lexer": "ipython3",
   "version": "3.10.6"
  }
 },
 "nbformat": 4,
 "nbformat_minor": 5
}
