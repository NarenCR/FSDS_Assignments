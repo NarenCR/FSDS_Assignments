{
 "cells": [
  {
   "cell_type": "code",
   "execution_count": null,
   "id": "6f22ecf7-114d-41d2-b53d-c9cb1567c722",
   "metadata": {},
   "outputs": [],
   "source": [
    "#1. Is the Python Standard Library included with PyInputPlus?"
   ]
  },
  {
   "cell_type": "code",
   "execution_count": null,
   "id": "e9e03393-c5ef-45d3-b095-07bc4e5066e2",
   "metadata": {},
   "outputs": [],
   "source": [
    "#Ans: No PyInputPlus is not included with python standard library."
   ]
  },
  {
   "cell_type": "code",
   "execution_count": null,
   "id": "bac2f00a-588f-47d2-98be-474ef44956f0",
   "metadata": {},
   "outputs": [],
   "source": [
    "#2. Why is PyInputPlus commonly imported with import pyinputplus as pypi?"
   ]
  },
  {
   "cell_type": "code",
   "execution_count": null,
   "id": "fce9b97d-d826-4cd0-8ce9-c54d1f0c9d29",
   "metadata": {},
   "outputs": [],
   "source": [
    "#Ans: PyInputPlus can be substitued with any string, but may because its widely used as pypi among programmers and easy to understand."
   ]
  },
  {
   "cell_type": "code",
   "execution_count": null,
   "id": "b799b2bb-2ccf-4c12-92a7-4e3b617cf423",
   "metadata": {},
   "outputs": [],
   "source": [
    "#3. How do you distinguish between inputInt() and inputFloat()?"
   ]
  },
  {
   "cell_type": "code",
   "execution_count": null,
   "id": "5c599993-b763-4245-8876-8e0a32ea80ba",
   "metadata": {},
   "outputs": [],
   "source": [
    "#Ans: inputInt() only accepts integer values and returns integer value only\n",
    "#     inputFloat() accepts and returns only floating point values\n",
    "#and both has min/max/greaterThan/lessThan parameters to specify conditioins."
   ]
  },
  {
   "cell_type": "code",
   "execution_count": null,
   "id": "436d3dca-5119-4367-a1c6-b7012e841573",
   "metadata": {},
   "outputs": [],
   "source": [
    "#4. Using PyInputPlus, how do you ensure that the user enters a whole number between 0 and 99?"
   ]
  },
  {
   "cell_type": "code",
   "execution_count": 4,
   "id": "50be43a4-e384-438a-8348-e4785706a204",
   "metadata": {},
   "outputs": [
    {
     "ename": "ModuleNotFoundError",
     "evalue": "No module named 'PyInputPlus'",
     "output_type": "error",
     "traceback": [
      "\u001b[0;31m---------------------------------------------------------------------------\u001b[0m",
      "\u001b[0;31mModuleNotFoundError\u001b[0m                       Traceback (most recent call last)",
      "Cell \u001b[0;32mIn [4], line 2\u001b[0m\n\u001b[1;32m      1\u001b[0m \u001b[38;5;66;03m#Ans: \u001b[39;00m\n\u001b[0;32m----> 2\u001b[0m \u001b[38;5;28;01mimport\u001b[39;00m \u001b[38;5;21;01mPyInputPlus\u001b[39;00m \u001b[38;5;28;01mas\u001b[39;00m \u001b[38;5;21;01mpypi\u001b[39;00m\n\u001b[1;32m      3\u001b[0m r \u001b[38;5;241m=\u001b[39m pypi\u001b[38;5;241m.\u001b[39minputInt(\u001b[38;5;28mmin\u001b[39m \u001b[38;5;241m=\u001b[39m \u001b[38;5;241m0\u001b[39m, \u001b[38;5;28mmax\u001b[39m \u001b[38;5;241m=\u001b[39m \u001b[38;5;241m99\u001b[39m)\n",
      "\u001b[0;31mModuleNotFoundError\u001b[0m: No module named 'PyInputPlus'"
     ]
    }
   ],
   "source": [
    "#Ans: \n",
    "import PyInputPlus as pypi\n",
    "r = pypi.inputInt(min = 0, max = 99)"
   ]
  },
  {
   "cell_type": "code",
   "execution_count": null,
   "id": "a5d0fbc3-4271-4fe7-bfa4-6075e67fc191",
   "metadata": {},
   "outputs": [],
   "source": [
    "#5. What is transferred to the keyword arguments allowRegexes and blockRegexes?"
   ]
  },
  {
   "cell_type": "code",
   "execution_count": null,
   "id": "1bf3c8ff-fdc0-48cb-a8b5-eae39368ba05",
   "metadata": {},
   "outputs": [],
   "source": [
    "#allowRegexes - allows specified str explicitly as input\n",
    "#blockRegexes - block specified str as input"
   ]
  },
  {
   "cell_type": "code",
   "execution_count": null,
   "id": "53fafdec-3453-478d-b9b3-b4e067329bd0",
   "metadata": {},
   "outputs": [],
   "source": [
    "#6. If a blank input is entered three times, what does inputStr(limit=3) do?"
   ]
  },
  {
   "cell_type": "code",
   "execution_count": null,
   "id": "3d8b66f0-be7e-49b3-a646-37479ff8e48a",
   "metadata": {},
   "outputs": [],
   "source": [
    "#Ans: The function will raise RetryLimitException."
   ]
  },
  {
   "cell_type": "code",
   "execution_count": null,
   "id": "11ad19a8-a78b-45a6-9573-a2e31a0f98d3",
   "metadata": {},
   "outputs": [],
   "source": [
    "#7. If blank input is entered three times, what does inputStr(limit=3, default='hello') do?"
   ]
  },
  {
   "cell_type": "code",
   "execution_count": null,
   "id": "8d66220c-da18-46a6-8d2e-835036cf74c2",
   "metadata": {},
   "outputs": [],
   "source": [
    "#Ans: default value 'hello' will be returned."
   ]
  }
 ],
 "metadata": {
  "kernelspec": {
   "display_name": "Python 3 (ipykernel)",
   "language": "python",
   "name": "python3"
  },
  "language_info": {
   "codemirror_mode": {
    "name": "ipython",
    "version": 3
   },
   "file_extension": ".py",
   "mimetype": "text/x-python",
   "name": "python",
   "nbconvert_exporter": "python",
   "pygments_lexer": "ipython3",
   "version": "3.10.6"
  }
 },
 "nbformat": 4,
 "nbformat_minor": 5
}
