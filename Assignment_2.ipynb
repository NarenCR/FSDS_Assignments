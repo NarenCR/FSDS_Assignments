{
  "metadata": {
    "language_info": {
      "codemirror_mode": {
        "name": "python",
        "version": 3
      },
      "file_extension": ".py",
      "mimetype": "text/x-python",
      "name": "python",
      "nbconvert_exporter": "python",
      "pygments_lexer": "ipython3",
      "version": "3.8"
    },
    "kernelspec": {
      "name": "python",
      "display_name": "Pyolite",
      "language": "python"
    }
  },
  "nbformat_minor": 4,
  "nbformat": 4,
  "cells": [
    {
      "cell_type": "raw",
      "source": "1.What are the two values of the Boolean data type? How do you write them?\n0 and 1, writen as True and False",
      "metadata": {}
    },
    {
      "cell_type": "raw",
      "source": "2. What are the three different types of Boolean operators?\n1. and\n2. or\n3. not",
      "metadata": {}
    },
    {
      "cell_type": "raw",
      "source": "3. Make a list of each Boolean operator's truth tables (i.e. every possible combination of Boolean\nvalues for the operator and what it evaluate ).\nAnd\n in  out\n1 1   1\n1 0   0\n0 1   0\n0 0   0\nor\n1 1   1\n1 0   1\n0 1   1\n0 0   0\nnot\n1     0\n0     1",
      "metadata": {}
    },
    {
      "cell_type": "code",
      "source": "4. What are the values of the following expressions?\n(5 > 4) and (3 == 5) --> 0 False\nnot (5 > 4)  --> 0 False        \n(5 > 4) or (3 == 5) --> 1 True\nnot ((5 > 4) or (3 == 5)) --> False\n(True and True) and (True == False) --> 0 False\n(not False) or (not True) --> 1 True",
      "metadata": {},
      "execution_count": null,
      "outputs": []
    },
    {
      "cell_type": "raw",
      "source": "5. What are the six comparison operators?\n>\n<\n==\n<=\n>=\n!=",
      "metadata": {}
    },
    {
      "cell_type": "raw",
      "source": "6. How do you tell the difference between the equal to and assignment operators?Describe a condition and when you would use one.\n= is asignment operator ( assigning a variable a=3)\n== is comparsion operator ( in conditions if a==3: do something)",
      "metadata": {}
    },
    {
      "cell_type": "markdown",
      "source": "7. Identify the three blocks in this code:\nspam = 0\nif spam == 10:\nprint('eggs') --> Bolck 1\nif spam > 5:\nprint('bacon') --> Block 2\nelse:\nprint('ham')   --> Block 3\nprint('spam')  --> Block 3\nprint('spam')  --> Block 3\n",
      "metadata": {}
    },
    {
      "cell_type": "code",
      "source": "#8. Write code that prints Hello if 1 is stored in spam, prints Howdy if 2 is stored in spam, and prints Greetings! if anything else is stored in spam.\n# I triend taking input for spam but it shows as some exception please explain about I am not able to find in internet.\n#spam = input('Enter a value')\nif spam==1:\n    print(\"Hello\")\nif spam==2:\n    print(\"Howdy\")\nif spam!=1 or spam!=2 :\n    print(\"Greeting!\")",
      "metadata": {
        "trusted": true
      },
      "execution_count": 16,
      "outputs": [
        {
          "name": "stdout",
          "text": "Greeting!\n",
          "output_type": "stream"
        }
      ]
    },
    {
      "cell_type": "code",
      "source": "spam",
      "metadata": {
        "trusted": true
      },
      "execution_count": 13,
      "outputs": [
        {
          "execution_count": 13,
          "output_type": "execute_result",
          "data": {
            "text/plain": "<Future finished exception=JsException(TypeError: Cannot read properties of null (reading 'sendInputRequest'))>"
          },
          "metadata": {}
        }
      ]
    },
    {
      "cell_type": "markdown",
      "source": "9.If your programme is stuck in an endless loop, what keys you’ll press?\nCtrl + C",
      "metadata": {}
    },
    {
      "cell_type": "raw",
      "source": "10. How can you tell the difference between break and continue?\nbreak stops the program if that block gets executed, code after this break statement will be excluded.\ncontinue statement skips the particular value assigned and continues the program from next value",
      "metadata": {}
    },
    {
      "cell_type": "code",
      "source": "# This program will stop when i becomes 4\nfor i in range(10):\n    print (i)\n    if i==4:\n        break",
      "metadata": {
        "trusted": true
      },
      "execution_count": 17,
      "outputs": [
        {
          "name": "stdout",
          "text": "0\n1\n2\n3\n4\n",
          "output_type": "stream"
        }
      ]
    },
    {
      "cell_type": "code",
      "source": "# 4 is skipped\nfor i in range(10):\n    if i==4:\n        continue\n    print(i)",
      "metadata": {
        "trusted": true
      },
      "execution_count": 23,
      "outputs": [
        {
          "name": "stdout",
          "text": "0\n1\n2\n3\n5\n6\n7\n8\n9\n",
          "output_type": "stream"
        }
      ]
    },
    {
      "cell_type": "markdown",
      "source": "11. In a for loop, what is the difference between range(10), range(0, 10), and range(0, 10, 1)?\nNo differences in execution for 3 range statements.\nif intial index is not mentioned default value will be taken as 0\nfor increment step default value is taken as 1 if increment step is not defined.",
      "metadata": {}
    },
    {
      "cell_type": "code",
      "source": "12. Write a short program that prints the numbers 1 to 10 using a for loop. Then write an equivalent program that prints the numbers 1 to 10 using a while loop.",
      "metadata": {},
      "execution_count": null,
      "outputs": []
    },
    {
      "cell_type": "code",
      "source": " for i in range(1,11):\n        print (i)",
      "metadata": {
        "trusted": true
      },
      "execution_count": 31,
      "outputs": [
        {
          "name": "stdout",
          "text": "1\n2\n3\n4\n5\n6\n7\n8\n9\n10\n",
          "output_type": "stream"
        }
      ]
    },
    {
      "cell_type": "code",
      "source": "i=1\nwhile(i<=10):\n    print(i)\n    i =i+ 1",
      "metadata": {
        "trusted": true
      },
      "execution_count": 33,
      "outputs": [
        {
          "name": "stdout",
          "text": "1\n2\n3\n4\n5\n6\n7\n8\n9\n10\n",
          "output_type": "stream"
        }
      ]
    },
    {
      "cell_type": "code",
      "source": "13. If you had a function named bacon() inside a module named spam, how would you call it after importing spam?\ns=spam.bacon()",
      "metadata": {},
      "execution_count": null,
      "outputs": []
    }
  ]
}