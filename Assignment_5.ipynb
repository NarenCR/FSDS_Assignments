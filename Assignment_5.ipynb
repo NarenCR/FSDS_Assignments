{
  "metadata": {
    "language_info": {
      "codemirror_mode": {
        "name": "python",
        "version": 3
      },
      "file_extension": ".py",
      "mimetype": "text/x-python",
      "name": "python",
      "nbconvert_exporter": "python",
      "pygments_lexer": "ipython3",
      "version": "3.8"
    },
    "kernelspec": {
      "name": "python",
      "display_name": "Python (Pyodide)",
      "language": "python"
    }
  },
  "nbformat_minor": 4,
  "nbformat": 4,
  "cells": [
    {
      "cell_type": "code",
      "source": "1. What does an empty dictionary's code look like?\nd={}",
      "metadata": {},
      "execution_count": null,
      "outputs": []
    },
    {
      "cell_type": "code",
      "source": "2. What is the value of a dictionary value with the key 'foo' and the value 42?\nd={'foo':42}\nvalue is 42\nd.values()",
      "metadata": {
        "trusted": true
      },
      "execution_count": 6,
      "outputs": [
        {
          "execution_count": 6,
          "output_type": "execute_result",
          "data": {
            "text/plain": "dict_values([42])"
          },
          "metadata": {}
        }
      ]
    },
    {
      "cell_type": "code",
      "source": "3. What is the most significant distinction between a dictionary and a list?\nlist doesn't have key and value pair\nsynatx for list [] and dict {} is different\ndict is an unordered data structure unlike list\nindexes of dict can also be strings unlike integers in list\n",
      "metadata": {},
      "execution_count": null,
      "outputs": []
    },
    {
      "cell_type": "raw",
      "source": "#4. What happens if you try to access spam['foo'] if spam is {'bar': 100}?\nspam={'bar':100}\nspam['foo']\n#error will be thrown like foo is not there. key error",
      "metadata": {}
    },
    {
      "cell_type": "code",
      "source": "5. If a dictionary is stored in spam, what is the difference between the expressions 'cat' in spam and 'cat' in spam.keys()?\nif only 'cat' key is there in that dict means there is no difference.\n'cat' in spam refers to 'cat' key in the dict\nspam.keys() also refers to the key 'cat' in the dict",
      "metadata": {},
      "execution_count": null,
      "outputs": []
    },
    {
      "cell_type": "code",
      "source": "6. If a dictionary is stored in spam, what is the difference between the expressions 'cat' in spam and 'cat' in spam.values()?\n'cat' in spam refers to 'cat' key in the dict\n'cat' in spam.values() will check if there is any value named 'cat' is present in dict or not.",
      "metadata": {},
      "execution_count": null,
      "outputs": []
    },
    {
      "cell_type": "code",
      "source": "7. What is a shortcut for the following code?\nif 'color' not in spam:\nspam['color'] = 'black'\n",
      "metadata": {},
      "execution_count": null,
      "outputs": []
    },
    {
      "cell_type": "code",
      "source": "#ans:\nspam.setdefault('color', 'black')",
      "metadata": {},
      "execution_count": null,
      "outputs": []
    },
    {
      "cell_type": "code",
      "source": "8. How do you \"pretty print\" dictionary values using which module and function?\nimport pprint\nmessage = 'It was a bright cold day in April, and the clocks were striking\nthirteen.'\ncount = {}\n\nfor character in message:\n    count.setdefault(character, 0)\n    count[character] = count[character] + 1\n\npprint.pprint(count)\nthe output of pprint will be cleaner and will be in a arraged way.",
      "metadata": {},
      "execution_count": null,
      "outputs": []
    }
  ]
}